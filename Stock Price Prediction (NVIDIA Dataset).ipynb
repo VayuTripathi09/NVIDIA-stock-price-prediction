{
 "cells": [
  {
   "cell_type": "markdown",
   "id": "8137197c-a473-4b51-aeba-551e2f9c66af",
   "metadata": {},
   "source": [
    "# Stock Price Prediction (NVIDIA Dataset)\n"
   ]
  },
  {
   "cell_type": "code",
   "execution_count": 3,
   "id": "35be2596-78d0-483c-8b86-0fc5d1441196",
   "metadata": {},
   "outputs": [],
   "source": [
    "\n",
    "import numpy as np\n",
    "import pandas as pd\n",
    "import matplotlib.pyplot as plt\n",
    "import torch\n",
    "import torch.nn as nn\n",
    "from sklearn.preprocessing import MinMaxScaler\n",
    "from sklearn.metrics import mean_squared_error\n"
   ]
  },
  {
   "cell_type": "code",
   "execution_count": 6,
   "id": "d9917730-d78e-4360-94de-8a72258fece7",
   "metadata": {},
   "outputs": [
    {
     "data": {
      "text/html": [
       "<div>\n",
       "<style scoped>\n",
       "    .dataframe tbody tr th:only-of-type {\n",
       "        vertical-align: middle;\n",
       "    }\n",
       "\n",
       "    .dataframe tbody tr th {\n",
       "        vertical-align: top;\n",
       "    }\n",
       "\n",
       "    .dataframe thead th {\n",
       "        text-align: right;\n",
       "    }\n",
       "</style>\n",
       "<table border=\"1\" class=\"dataframe\">\n",
       "  <thead>\n",
       "    <tr style=\"text-align: right;\">\n",
       "      <th></th>\n",
       "      <th>Date</th>\n",
       "      <th>Adj Close</th>\n",
       "      <th>Close</th>\n",
       "      <th>High</th>\n",
       "      <th>Low</th>\n",
       "      <th>Open</th>\n",
       "      <th>Volume</th>\n",
       "    </tr>\n",
       "  </thead>\n",
       "  <tbody>\n",
       "    <tr>\n",
       "      <th>0</th>\n",
       "      <td>1999-01-22</td>\n",
       "      <td>0.037615</td>\n",
       "      <td>0.041016</td>\n",
       "      <td>0.048828</td>\n",
       "      <td>0.038802</td>\n",
       "      <td>0.043750</td>\n",
       "      <td>2714688000</td>\n",
       "    </tr>\n",
       "    <tr>\n",
       "      <th>1</th>\n",
       "      <td>1999-01-25</td>\n",
       "      <td>0.041556</td>\n",
       "      <td>0.045313</td>\n",
       "      <td>0.045833</td>\n",
       "      <td>0.041016</td>\n",
       "      <td>0.044271</td>\n",
       "      <td>510480000</td>\n",
       "    </tr>\n",
       "    <tr>\n",
       "      <th>2</th>\n",
       "      <td>1999-01-26</td>\n",
       "      <td>0.038331</td>\n",
       "      <td>0.041797</td>\n",
       "      <td>0.046745</td>\n",
       "      <td>0.041146</td>\n",
       "      <td>0.045833</td>\n",
       "      <td>343200000</td>\n",
       "    </tr>\n",
       "    <tr>\n",
       "      <th>3</th>\n",
       "      <td>1999-01-27</td>\n",
       "      <td>0.038212</td>\n",
       "      <td>0.041667</td>\n",
       "      <td>0.042969</td>\n",
       "      <td>0.039583</td>\n",
       "      <td>0.041927</td>\n",
       "      <td>244368000</td>\n",
       "    </tr>\n",
       "    <tr>\n",
       "      <th>4</th>\n",
       "      <td>1999-01-28</td>\n",
       "      <td>0.038092</td>\n",
       "      <td>0.041536</td>\n",
       "      <td>0.041927</td>\n",
       "      <td>0.041276</td>\n",
       "      <td>0.041667</td>\n",
       "      <td>227520000</td>\n",
       "    </tr>\n",
       "  </tbody>\n",
       "</table>\n",
       "</div>"
      ],
      "text/plain": [
       "         Date  Adj Close     Close      High       Low      Open      Volume\n",
       "0  1999-01-22   0.037615  0.041016  0.048828  0.038802  0.043750  2714688000\n",
       "1  1999-01-25   0.041556  0.045313  0.045833  0.041016  0.044271   510480000\n",
       "2  1999-01-26   0.038331  0.041797  0.046745  0.041146  0.045833   343200000\n",
       "3  1999-01-27   0.038212  0.041667  0.042969  0.039583  0.041927   244368000\n",
       "4  1999-01-28   0.038092  0.041536  0.041927  0.041276  0.041667   227520000"
      ]
     },
     "execution_count": 6,
     "metadata": {},
     "output_type": "execute_result"
    }
   ],
   "source": [
    "df = pd.read_csv(r\"NVDA.csv\")\n",
    "df.head()"
   ]
  },
  {
   "cell_type": "code",
   "execution_count": 7,
   "id": "4c9f328a-b8e2-4c7e-9833-f53c797758df",
   "metadata": {},
   "outputs": [],
   "source": [
    "df['Date'] = pd.to_datetime(df['Date'])\n",
    "df.set_index('Date', inplace=True)"
   ]
  },
  {
   "cell_type": "code",
   "execution_count": 8,
   "id": "ecc25b8e-2b12-4e1a-a28d-e4469f183b95",
   "metadata": {},
   "outputs": [],
   "source": [
    "data = df[['Close']].values"
   ]
  },
  {
   "cell_type": "code",
   "execution_count": 9,
   "id": "ab11d565-5f7c-404b-b8fc-5acda9c5b010",
   "metadata": {},
   "outputs": [],
   "source": [
    "scaler = MinMaxScaler(feature_range=(0,1))\n",
    "scaled_data = scaler.fit_transform(data)"
   ]
  },
  {
   "cell_type": "code",
   "execution_count": 10,
   "id": "be22cc41-6c5b-4aab-a587-eafa7705bafc",
   "metadata": {},
   "outputs": [],
   "source": [
    "def create_sequences(data, seq_length=60):\n",
    "    xs, ys = [], []\n",
    "    for i in range(len(data)-seq_length):\n",
    "        xs.append(data[i:i+seq_length])\n",
    "        ys.append(data[i+seq_length])\n",
    "    return np.array(xs), np.array(ys)\n",
    "\n",
    "seq_length = 60\n",
    "X, y = create_sequences(scaled_data, seq_length)"
   ]
  },
  {
   "cell_type": "code",
   "execution_count": 11,
   "id": "c55a8c1c-dc39-4801-92b0-b0c4196e02f4",
   "metadata": {},
   "outputs": [],
   "source": [
    "train_size = int(len(X)*0.8)\n",
    "X_train, X_test = X[:train_size], X[train_size:]\n",
    "y_train, y_test = y[:train_size], y[train_size:]"
   ]
  },
  {
   "cell_type": "code",
   "execution_count": 12,
   "id": "4981a3c6-7f29-4213-9c4a-71ddeacc8284",
   "metadata": {},
   "outputs": [],
   "source": [
    "X_train = torch.from_numpy(X_train).float()\n",
    "y_train = torch.from_numpy(y_train).float()\n",
    "X_test = torch.from_numpy(X_test).float()\n",
    "y_test = torch.from_numpy(y_test).float()"
   ]
  },
  {
   "cell_type": "code",
   "execution_count": 13,
   "id": "acd7fcae-bda5-4a79-850c-3658a98ad680",
   "metadata": {},
   "outputs": [],
   "source": [
    "X_train = X_train.view(X_train.shape[0], X_train.shape[1], 1)\n",
    "X_test = X_test.view(X_test.shape[0], X_test.shape[1], 1)"
   ]
  },
  {
   "cell_type": "code",
   "execution_count": 18,
   "id": "1e23e1c8-5b80-4534-a90d-21a97333111e",
   "metadata": {},
   "outputs": [],
   "source": [
    "class LSTMModel(nn.Module):\n",
    "    def __init__(self, input_size=1, hidden_size=50, num_layers=2, output_size=1):\n",
    "        super(LSTMModel, self).__init__()\n",
    "        self.hidden_size = hidden_size\n",
    "        self.num_layers = num_layers\n",
    "        self.lstm = nn.LSTM(input_size, hidden_size, num_layers, batch_first=True)\n",
    "        self.fc = nn.Linear(hidden_size, output_size)\n",
    "        \n",
    "    def forward(self, x):\n",
    "        h0 = torch.zeros(self.num_layers, x.size(0), self.hidden_size)\n",
    "        c0 = torch.zeros(self.num_layers, x.size(0), self.hidden_size)\n",
    "        out, _ = self.lstm(x, (h0, c0))\n",
    "        out = self.fc(out[:, -1, :])\n",
    "        return out\n",
    "        model = LSTMModel()"
   ]
  },
  {
   "cell_type": "code",
   "execution_count": 19,
   "id": "af7bbbb9-15bf-4df0-aee2-229dbf4d6832",
   "metadata": {},
   "outputs": [],
   "source": [
    "# Loss & optimizer\n",
    "criterion = nn.MSELoss()\n",
    "optimizer = torch.optim.Adam(model.parameters(), lr=0.001)"
   ]
  },
  {
   "cell_type": "code",
   "execution_count": 20,
   "id": "48713658-9142-4267-b336-f5645b1843e7",
   "metadata": {},
   "outputs": [
    {
     "name": "stdout",
     "output_type": "stream",
     "text": [
      "Epoch 1/20, Loss: 0.000116\n",
      "Epoch 2/20, Loss: 0.000053\n",
      "Epoch 3/20, Loss: 0.000001\n",
      "Epoch 4/20, Loss: 0.000001\n",
      "Epoch 5/20, Loss: 0.000001\n",
      "Epoch 6/20, Loss: 0.000001\n",
      "Epoch 7/20, Loss: 0.000001\n",
      "Epoch 8/20, Loss: 0.000001\n",
      "Epoch 9/20, Loss: 0.000001\n",
      "Epoch 10/20, Loss: 0.000001\n",
      "Epoch 11/20, Loss: 0.000001\n",
      "Epoch 12/20, Loss: 0.000001\n",
      "Epoch 13/20, Loss: 0.000001\n",
      "Epoch 14/20, Loss: 0.000001\n",
      "Epoch 15/20, Loss: 0.000001\n",
      "Epoch 16/20, Loss: 0.000001\n",
      "Epoch 17/20, Loss: 0.000001\n",
      "Epoch 18/20, Loss: 0.000001\n",
      "Epoch 19/20, Loss: 0.000001\n",
      "Epoch 20/20, Loss: 0.000001\n"
     ]
    }
   ],
   "source": [
    "epochs = 20\n",
    "batch_size = 64\n",
    "\n",
    "for epoch in range(epochs):\n",
    "    model.train()\n",
    "    permutation = torch.randperm(X_train.size()[0])\n",
    "    epoch_loss = 0\n",
    "    for i in range(0, X_train.size()[0], batch_size):\n",
    "        indices = permutation[i:i+batch_size]\n",
    "        X_batch, y_batch = X_train[indices], y_train[indices]\n",
    "        optimizer.zero_grad()\n",
    "        outputs = model(X_batch)\n",
    "        loss = criterion(outputs, y_batch)\n",
    "        loss.backward()\n",
    "        optimizer.step()\n",
    "        epoch_loss += loss.item()\n",
    "    print(f\"Epoch {epoch+1}/{epochs}, Loss: {epoch_loss/len(range(0, X_train.size()[0], batch_size)):.6f}\")\n"
   ]
  },
  {
   "cell_type": "code",
   "execution_count": 21,
   "id": "94dfebe9-2b37-4809-8bd8-33b111600264",
   "metadata": {},
   "outputs": [],
   "source": [
    "# 6️⃣ Predict\n",
    "model.eval()\n",
    "with torch.no_grad():\n",
    "    train_pred = model(X_train).numpy()\n",
    "    test_pred = model(X_test).numpy()"
   ]
  },
  {
   "cell_type": "code",
   "execution_count": 22,
   "id": "13aed29f-2483-4552-8eeb-9b47c4168daa",
   "metadata": {},
   "outputs": [],
   "source": [
    "# Inverse scale\n",
    "train_pred_actual = scaler.inverse_transform(train_pred)\n",
    "y_train_actual = scaler.inverse_transform(y_train.numpy())\n",
    "test_pred_actual = scaler.inverse_transform(test_pred)\n",
    "y_test_actual = scaler.inverse_transform(y_test.numpy())"
   ]
  },
  {
   "cell_type": "code",
   "execution_count": 23,
   "id": "90a77a53-031d-40d1-8283-1dca7cc5ec24",
   "metadata": {},
   "outputs": [
    {
     "name": "stdout",
     "output_type": "stream",
     "text": [
      "Train RMSE: 0.11093441042157379\n",
      "Test RMSE: 24.660611345891752\n"
     ]
    }
   ],
   "source": [
    "# 7️⃣ Evaluate\n",
    "train_rmse = np.sqrt(mean_squared_error(y_train_actual, train_pred_actual))\n",
    "test_rmse = np.sqrt(mean_squared_error(y_test_actual, test_pred_actual))\n",
    "print(\"Train RMSE:\", train_rmse)\n",
    "print(\"Test RMSE:\", test_rmse)"
   ]
  },
  {
   "cell_type": "code",
   "execution_count": 24,
   "id": "c05b9242-92b5-4310-935a-50939abcc2bf",
   "metadata": {},
   "outputs": [
    {
     "data": {
      "image/png": "[encoded data removed]",
      "text/plain": [
       "<Figure size 1200x600 with 1 Axes>"
      ]
     },
     "metadata": {},
     "output_type": "display_data"
    }
   ],
   "source": [
    "plt.figure(figsize=(12,6))\n",
    "plt.plot(df.index, df['Close'], label='Actual', color='blue')\n",
    "plt.plot(df.index[seq_length:train_size+seq_length], train_pred_actual, label='Train Predict', color='green')\n",
    "plt.plot(df.index[train_size+seq_length:], test_pred_actual, label='Test Predict', color='red')\n",
    "plt.xlabel('Date')\n",
    "plt.ylabel('NVIDIA Stock Price')\n",
    "plt.legend()\n",
    "plt.show()"
   ]
  },
  {
   "cell_type": "code",
   "execution_count": 32,
   "id": "1d878200-175c-4624-98a3-e4edda7680ec",
   "metadata": {},
   "outputs": [
    {
     "name": "stdout",
     "output_type": "stream",
     "text": [
      "Requirement already satisfied: streamlit in c:\\users\\vayun\\anaconda3\\lib\\site-packages (1.45.1)\n",
      "Requirement already satisfied: altair<6,>=4.0 in c:\\users\\vayun\\anaconda3\\lib\\site-packages (from streamlit) (5.5.0)\n",
      "Requirement already satisfied: blinker<2,>=1.5.0 in c:\\users\\vayun\\anaconda3\\lib\\site-packages (from streamlit) (1.9.0)\n",
      "Requirement already satisfied: cachetools<6,>=4.0 in c:\\users\\vayun\\anaconda3\\lib\\site-packages (from streamlit) (5.5.1)\n",
      "Requirement already satisfied: click<9,>=7.0 in c:\\users\\vayun\\anaconda3\\lib\\site-packages (from streamlit) (8.1.8)\n",
      "Requirement already satisfied: numpy<3,>=1.23 in c:\\users\\vayun\\anaconda3\\lib\\site-packages (from streamlit) (2.1.3)\n",
      "Requirement already satisfied: packaging<25,>=20 in c:\\users\\vayun\\anaconda3\\lib\\site-packages (from streamlit) (24.2)\n",
      "Requirement already satisfied: pandas<3,>=1.4.0 in c:\\users\\vayun\\anaconda3\\lib\\site-packages (from streamlit) (2.2.3)\n",
      "Requirement already satisfied: pillow<12,>=7.1.0 in c:\\users\\vayun\\anaconda3\\lib\\site-packages (from streamlit) (11.1.0)\n",
      "Requirement already satisfied: protobuf<7,>=3.20 in c:\\users\\vayun\\anaconda3\\lib\\site-packages (from streamlit) (5.29.3)\n",
      "Requirement already satisfied: pyarrow>=7.0 in c:\\users\\vayun\\anaconda3\\lib\\site-packages (from streamlit) (19.0.0)\n",
      "Requirement already satisfied: requests<3,>=2.27 in c:\\users\\vayun\\anaconda3\\lib\\site-packages (from streamlit) (2.32.3)\n",
      "Requirement already satisfied: tenacity<10,>=8.1.0 in c:\\users\\vayun\\anaconda3\\lib\\site-packages (from streamlit) (9.0.0)\n",
      "Requirement already satisfied: toml<2,>=0.10.1 in c:\\users\\vayun\\anaconda3\\lib\\site-packages (from streamlit) (0.10.2)\n",
      "Requirement already satisfied: typing-extensions<5,>=4.4.0 in c:\\users\\vayun\\anaconda3\\lib\\site-packages (from streamlit) (4.12.2)\n",
      "Requirement already satisfied: watchdog<7,>=2.1.5 in c:\\users\\vayun\\anaconda3\\lib\\site-packages (from streamlit) (4.0.2)\n",
      "Requirement already satisfied: gitpython!=3.1.19,<4,>=3.0.7 in c:\\users\\vayun\\anaconda3\\lib\\site-packages (from streamlit) (3.1.43)\n",
      "Requirement already satisfied: tornado<7,>=6.0.3 in c:\\users\\vayun\\anaconda3\\lib\\site-packages (from streamlit) (6.5.1)\n",
      "Requirement already satisfied: jinja2 in c:\\users\\vayun\\anaconda3\\lib\\site-packages (from altair<6,>=4.0->streamlit) (3.1.6)\n",
      "Requirement already satisfied: jsonschema>=3.0 in c:\\users\\vayun\\anaconda3\\lib\\site-packages (from altair<6,>=4.0->streamlit) (4.23.0)\n",
      "Requirement already satisfied: narwhals>=1.14.2 in c:\\users\\vayun\\anaconda3\\lib\\site-packages (from altair<6,>=4.0->streamlit) (1.31.0)\n",
      "Requirement already satisfied: colorama in c:\\users\\vayun\\anaconda3\\lib\\site-packages (from click<9,>=7.0->streamlit) (0.4.6)\n",
      "Requirement already satisfied: gitdb<5,>=4.0.1 in c:\\users\\vayun\\anaconda3\\lib\\site-packages (from gitpython!=3.1.19,<4,>=3.0.7->streamlit) (4.0.7)\n",
      "Requirement already satisfied: smmap<5,>=3.0.1 in c:\\users\\vayun\\anaconda3\\lib\\site-packages (from gitdb<5,>=4.0.1->gitpython!=3.1.19,<4,>=3.0.7->streamlit) (4.0.0)\n",
      "Requirement already satisfied: python-dateutil>=2.8.2 in c:\\users\\vayun\\anaconda3\\lib\\site-packages (from pandas<3,>=1.4.0->streamlit) (2.9.0.post0)\n",
      "Requirement already satisfied: pytz>=2020.1 in c:\\users\\vayun\\anaconda3\\lib\\site-packages (from pandas<3,>=1.4.0->streamlit) (2024.1)\n",
      "Requirement already satisfied: tzdata>=2022.7 in c:\\users\\vayun\\anaconda3\\lib\\site-packages (from pandas<3,>=1.4.0->streamlit) (2025.2)\n",
      "Requirement already satisfied: charset-normalizer<4,>=2 in c:\\users\\vayun\\anaconda3\\lib\\site-packages (from requests<3,>=2.27->streamlit) (3.3.2)\n",
      "Requirement already satisfied: idna<4,>=2.5 in c:\\users\\vayun\\anaconda3\\lib\\site-packages (from requests<3,>=2.27->streamlit) (3.7)\n",
      "Requirement already satisfied: urllib3<3,>=1.21.1 in c:\\users\\vayun\\anaconda3\\lib\\site-packages (from requests<3,>=2.27->streamlit) (2.3.0)\n",
      "Requirement already satisfied: certifi>=2017.4.17 in c:\\users\\vayun\\anaconda3\\lib\\site-packages (from requests<3,>=2.27->streamlit) (2025.4.26)\n",
      "Requirement already satisfied: attrs>=22.2.0 in c:\\users\\vayun\\anaconda3\\lib\\site-packages (from jsonschema>=3.0->altair<6,>=4.0->streamlit) (24.3.0)\n",
      "Requirement already satisfied: jsonschema-specifications>=2023.03.6 in c:\\users\\vayun\\anaconda3\\lib\\site-packages (from jsonschema>=3.0->altair<6,>=4.0->streamlit) (2023.7.1)\n",
      "Requirement already satisfied: referencing>=0.28.4 in c:\\users\\vayun\\anaconda3\\lib\\site-packages (from jsonschema>=3.0->altair<6,>=4.0->streamlit) (0.30.2)\n",
      "Requirement already satisfied: rpds-py>=0.7.1 in c:\\users\\vayun\\anaconda3\\lib\\site-packages (from jsonschema>=3.0->altair<6,>=4.0->streamlit) (0.22.3)\n",
      "Requirement already satisfied: six>=1.5 in c:\\users\\vayun\\anaconda3\\lib\\site-packages (from python-dateutil>=2.8.2->pandas<3,>=1.4.0->streamlit) (1.17.0)\n",
      "Requirement already satisfied: MarkupSafe>=2.0 in c:\\users\\vayun\\anaconda3\\lib\\site-packages (from jinja2->altair<6,>=4.0->streamlit) (3.0.2)\n"
     ]
    }
   ],
   "source": [
    "!pip install streamlit\n",
    "\n"
   ]
  },
  {
   "cell_type": "code",
   "execution_count": 33,
   "id": "d9f12043-a130-44f6-a776-dc3cc331959c",
   "metadata": {},
   "outputs": [
    {
     "name": "stdout",
     "output_type": "stream",
     "text": [
      "Collecting voila\n",
      "  Downloading voila-0.5.10-py3-none-any.whl.metadata (9.4 kB)\n",
      "Requirement already satisfied: jupyter-client<9,>=7.4.4 in c:\\users\\vayun\\anaconda3\\lib\\site-packages (from voila) (8.6.3)\n",
      "Requirement already satisfied: jupyter-core>=4.11.0 in c:\\users\\vayun\\anaconda3\\lib\\site-packages (from voila) (5.7.2)\n",
      "Requirement already satisfied: jupyter-server<3,>=1.18 in c:\\users\\vayun\\anaconda3\\lib\\site-packages (from voila) (2.15.0)\n",
      "Requirement already satisfied: jupyterlab-server<3,>=2.3.0 in c:\\users\\vayun\\anaconda3\\lib\\site-packages (from voila) (2.27.3)\n",
      "Requirement already satisfied: nbclient>=0.4.0 in c:\\users\\vayun\\anaconda3\\lib\\site-packages (from voila) (0.10.2)\n",
      "Requirement already satisfied: nbconvert<8,>=6.4.5 in c:\\users\\vayun\\anaconda3\\lib\\site-packages (from voila) (7.16.6)\n",
      "Requirement already satisfied: traitlets<6,>=5.0.3 in c:\\users\\vayun\\anaconda3\\lib\\site-packages (from voila) (5.14.3)\n",
      "Collecting websockets>=9.0 (from voila)\n",
      "  Downloading websockets-15.0.1-cp313-cp313-win_amd64.whl.metadata (7.0 kB)\n",
      "Requirement already satisfied: python-dateutil>=2.8.2 in c:\\users\\vayun\\anaconda3\\lib\\site-packages (from jupyter-client<9,>=7.4.4->voila) (2.9.0.post0)\n",
      "Requirement already satisfied: pyzmq>=23.0 in c:\\users\\vayun\\anaconda3\\lib\\site-packages (from jupyter-client<9,>=7.4.4->voila) (26.2.0)\n",
      "Requirement already satisfied: tornado>=6.2 in c:\\users\\vayun\\anaconda3\\lib\\site-packages (from jupyter-client<9,>=7.4.4->voila) (6.5.1)\n",
      "Requirement already satisfied: anyio>=3.1.0 in c:\\users\\vayun\\anaconda3\\lib\\site-packages (from jupyter-server<3,>=1.18->voila) (4.7.0)\n",
      "Requirement already satisfied: argon2-cffi>=21.1 in c:\\users\\vayun\\anaconda3\\lib\\site-packages (from jupyter-server<3,>=1.18->voila) (21.3.0)\n",
      "Requirement already satisfied: jinja2>=3.0.3 in c:\\users\\vayun\\anaconda3\\lib\\site-packages (from jupyter-server<3,>=1.18->voila) (3.1.6)\n",
      "Requirement already satisfied: jupyter-events>=0.11.0 in c:\\users\\vayun\\anaconda3\\lib\\site-packages (from jupyter-server<3,>=1.18->voila) (0.12.0)\n",
      "Requirement already satisfied: jupyter-server-terminals>=0.4.4 in c:\\users\\vayun\\anaconda3\\lib\\site-packages (from jupyter-server<3,>=1.18->voila) (0.5.3)\n",
      "Requirement already satisfied: nbformat>=5.3.0 in c:\\users\\vayun\\anaconda3\\lib\\site-packages (from jupyter-server<3,>=1.18->voila) (5.10.4)\n",
      "Requirement already satisfied: overrides>=5.0 in c:\\users\\vayun\\anaconda3\\lib\\site-packages (from jupyter-server<3,>=1.18->voila) (7.4.0)\n",
      "Requirement already satisfied: packaging>=22.0 in c:\\users\\vayun\\anaconda3\\lib\\site-packages (from jupyter-server<3,>=1.18->voila) (24.2)\n",
      "Requirement already satisfied: prometheus-client>=0.9 in c:\\users\\vayun\\anaconda3\\lib\\site-packages (from jupyter-server<3,>=1.18->voila) (0.21.1)\n",
      "Requirement already satisfied: pywinpty>=2.0.1 in c:\\users\\vayun\\anaconda3\\lib\\site-packages (from jupyter-server<3,>=1.18->voila) (2.0.15)\n",
      "Requirement already satisfied: send2trash>=1.8.2 in c:\\users\\vayun\\anaconda3\\lib\\site-packages (from jupyter-server<3,>=1.18->voila) (1.8.2)\n",
      "Requirement already satisfied: terminado>=0.8.3 in c:\\users\\vayun\\anaconda3\\lib\\site-packages (from jupyter-server<3,>=1.18->voila) (0.17.1)\n",
      "Requirement already satisfied: websocket-client>=1.7 in c:\\users\\vayun\\anaconda3\\lib\\site-packages (from jupyter-server<3,>=1.18->voila) (1.8.0)\n",
      "Requirement already satisfied: babel>=2.10 in c:\\users\\vayun\\anaconda3\\lib\\site-packages (from jupyterlab-server<3,>=2.3.0->voila) (2.16.0)\n",
      "Requirement already satisfied: json5>=0.9.0 in c:\\users\\vayun\\anaconda3\\lib\\site-packages (from jupyterlab-server<3,>=2.3.0->voila) (0.9.25)\n",
      "Requirement already satisfied: jsonschema>=4.18.0 in c:\\users\\vayun\\anaconda3\\lib\\site-packages (from jupyterlab-server<3,>=2.3.0->voila) (4.23.0)\n",
      "Requirement already satisfied: requests>=2.31 in c:\\users\\vayun\\anaconda3\\lib\\site-packages (from jupyterlab-server<3,>=2.3.0->voila) (2.32.3)\n",
      "Requirement already satisfied: beautifulsoup4 in c:\\users\\vayun\\anaconda3\\lib\\site-packages (from nbconvert<8,>=6.4.5->voila) (4.12.3)\n",
      "Requirement already satisfied: bleach!=5.0.0 in c:\\users\\vayun\\anaconda3\\lib\\site-packages (from bleach[css]!=5.0.0->nbconvert<8,>=6.4.5->voila) (6.2.0)\n",
      "Requirement already satisfied: defusedxml in c:\\users\\vayun\\anaconda3\\lib\\site-packages (from nbconvert<8,>=6.4.5->voila) (0.7.1)\n",
      "Requirement already satisfied: jupyterlab-pygments in c:\\users\\vayun\\anaconda3\\lib\\site-packages (from nbconvert<8,>=6.4.5->voila) (0.3.0)\n",
      "Requirement already satisfied: markupsafe>=2.0 in c:\\users\\vayun\\anaconda3\\lib\\site-packages (from nbconvert<8,>=6.4.5->voila) (3.0.2)\n",
      "Requirement already satisfied: mistune<4,>=2.0.3 in c:\\users\\vayun\\anaconda3\\lib\\site-packages (from nbconvert<8,>=6.4.5->voila) (3.1.2)\n",
      "Requirement already satisfied: pandocfilters>=1.4.1 in c:\\users\\vayun\\anaconda3\\lib\\site-packages (from nbconvert<8,>=6.4.5->voila) (1.5.0)\n",
      "Requirement already satisfied: pygments>=2.4.1 in c:\\users\\vayun\\anaconda3\\lib\\site-packages (from nbconvert<8,>=6.4.5->voila) (2.19.1)\n",
      "Requirement already satisfied: idna>=2.8 in c:\\users\\vayun\\anaconda3\\lib\\site-packages (from anyio>=3.1.0->jupyter-server<3,>=1.18->voila) (3.7)\n",
      "Requirement already satisfied: sniffio>=1.1 in c:\\users\\vayun\\anaconda3\\lib\\site-packages (from anyio>=3.1.0->jupyter-server<3,>=1.18->voila) (1.3.0)\n",
      "Requirement already satisfied: argon2-cffi-bindings in c:\\users\\vayun\\anaconda3\\lib\\site-packages (from argon2-cffi>=21.1->jupyter-server<3,>=1.18->voila) (21.2.0)\n",
      "Requirement already satisfied: webencodings in c:\\users\\vayun\\anaconda3\\lib\\site-packages (from bleach!=5.0.0->bleach[css]!=5.0.0->nbconvert<8,>=6.4.5->voila) (0.5.1)\n",
      "Requirement already satisfied: tinycss2<1.5,>=1.1.0 in c:\\users\\vayun\\anaconda3\\lib\\site-packages (from bleach[css]!=5.0.0->nbconvert<8,>=6.4.5->voila) (1.4.0)\n",
      "Requirement already satisfied: attrs>=22.2.0 in c:\\users\\vayun\\anaconda3\\lib\\site-packages (from jsonschema>=4.18.0->jupyterlab-server<3,>=2.3.0->voila) (24.3.0)\n",
      "Requirement already satisfied: jsonschema-specifications>=2023.03.6 in c:\\users\\vayun\\anaconda3\\lib\\site-packages (from jsonschema>=4.18.0->jupyterlab-server<3,>=2.3.0->voila) (2023.7.1)\n",
      "Requirement already satisfied: referencing>=0.28.4 in c:\\users\\vayun\\anaconda3\\lib\\site-packages (from jsonschema>=4.18.0->jupyterlab-server<3,>=2.3.0->voila) (0.30.2)\n",
      "Requirement already satisfied: rpds-py>=0.7.1 in c:\\users\\vayun\\anaconda3\\lib\\site-packages (from jsonschema>=4.18.0->jupyterlab-server<3,>=2.3.0->voila) (0.22.3)\n",
      "Requirement already satisfied: platformdirs>=2.5 in c:\\users\\vayun\\anaconda3\\lib\\site-packages (from jupyter-core>=4.11.0->voila) (4.3.7)\n",
      "Requirement already satisfied: pywin32>=300 in c:\\users\\vayun\\anaconda3\\lib\\site-packages (from jupyter-core>=4.11.0->voila) (308)\n",
      "Requirement already satisfied: python-json-logger>=2.0.4 in c:\\users\\vayun\\anaconda3\\lib\\site-packages (from jupyter-events>=0.11.0->jupyter-server<3,>=1.18->voila) (3.2.1)\n",
      "Requirement already satisfied: pyyaml>=5.3 in c:\\users\\vayun\\anaconda3\\lib\\site-packages (from jupyter-events>=0.11.0->jupyter-server<3,>=1.18->voila) (6.0.2)\n",
      "Requirement already satisfied: rfc3339-validator in c:\\users\\vayun\\anaconda3\\lib\\site-packages (from jupyter-events>=0.11.0->jupyter-server<3,>=1.18->voila) (0.1.4)\n",
      "Requirement already satisfied: rfc3986-validator>=0.1.1 in c:\\users\\vayun\\anaconda3\\lib\\site-packages (from jupyter-events>=0.11.0->jupyter-server<3,>=1.18->voila) (0.1.1)\n",
      "Collecting fqdn (from jsonschema[format-nongpl]>=4.18.0->jupyter-events>=0.11.0->jupyter-server<3,>=1.18->voila)\n",
      "  Using cached fqdn-1.5.1-py3-none-any.whl.metadata (1.4 kB)\n",
      "Collecting isoduration (from jsonschema[format-nongpl]>=4.18.0->jupyter-events>=0.11.0->jupyter-server<3,>=1.18->voila)\n",
      "  Using cached isoduration-20.11.0-py3-none-any.whl.metadata (5.7 kB)\n",
      "Requirement already satisfied: jsonpointer>1.13 in c:\\users\\vayun\\anaconda3\\lib\\site-packages (from jsonschema[format-nongpl]>=4.18.0->jupyter-events>=0.11.0->jupyter-server<3,>=1.18->voila) (2.1)\n",
      "Collecting uri-template (from jsonschema[format-nongpl]>=4.18.0->jupyter-events>=0.11.0->jupyter-server<3,>=1.18->voila)\n",
      "  Using cached uri_template-1.3.0-py3-none-any.whl.metadata (8.8 kB)\n",
      "Collecting webcolors>=24.6.0 (from jsonschema[format-nongpl]>=4.18.0->jupyter-events>=0.11.0->jupyter-server<3,>=1.18->voila)\n",
      "  Using cached webcolors-24.11.1-py3-none-any.whl.metadata (2.2 kB)\n",
      "Requirement already satisfied: fastjsonschema>=2.15 in c:\\users\\vayun\\anaconda3\\lib\\site-packages (from nbformat>=5.3.0->jupyter-server<3,>=1.18->voila) (2.20.0)\n",
      "Requirement already satisfied: six>=1.5 in c:\\users\\vayun\\anaconda3\\lib\\site-packages (from python-dateutil>=2.8.2->jupyter-client<9,>=7.4.4->voila) (1.17.0)\n",
      "Requirement already satisfied: charset-normalizer<4,>=2 in c:\\users\\vayun\\anaconda3\\lib\\site-packages (from requests>=2.31->jupyterlab-server<3,>=2.3.0->voila) (3.3.2)\n",
      "Requirement already satisfied: urllib3<3,>=1.21.1 in c:\\users\\vayun\\anaconda3\\lib\\site-packages (from requests>=2.31->jupyterlab-server<3,>=2.3.0->voila) (2.3.0)\n",
      "Requirement already satisfied: certifi>=2017.4.17 in c:\\users\\vayun\\anaconda3\\lib\\site-packages (from requests>=2.31->jupyterlab-server<3,>=2.3.0->voila) (2025.4.26)\n",
      "Requirement already satisfied: cffi>=1.0.1 in c:\\users\\vayun\\anaconda3\\lib\\site-packages (from argon2-cffi-bindings->argon2-cffi>=21.1->jupyter-server<3,>=1.18->voila) (1.17.1)\n",
      "Requirement already satisfied: pycparser in c:\\users\\vayun\\anaconda3\\lib\\site-packages (from cffi>=1.0.1->argon2-cffi-bindings->argon2-cffi>=21.1->jupyter-server<3,>=1.18->voila) (2.21)\n",
      "Requirement already satisfied: soupsieve>1.2 in c:\\users\\vayun\\anaconda3\\lib\\site-packages (from beautifulsoup4->nbconvert<8,>=6.4.5->voila) (2.5)\n",
      "Requirement already satisfied: arrow>=0.15.0 in c:\\users\\vayun\\anaconda3\\lib\\site-packages (from isoduration->jsonschema[format-nongpl]>=4.18.0->jupyter-events>=0.11.0->jupyter-server<3,>=1.18->voila) (1.3.0)\n",
      "Downloading voila-0.5.10-py3-none-any.whl (4.5 MB)\n",
      "   ---------------------------------------- 0.0/4.5 MB ? eta -:--:--\n",
      "   ------ --------------------------------- 0.8/4.5 MB 9.0 MB/s eta 0:00:01\n",
      "   ---------------------------------------- 4.5/4.5 MB 20.4 MB/s eta 0:00:00\n",
      "Using cached webcolors-24.11.1-py3-none-any.whl (14 kB)\n",
      "Downloading websockets-15.0.1-cp313-cp313-win_amd64.whl (176 kB)\n",
      "Using cached fqdn-1.5.1-py3-none-any.whl (9.1 kB)\n",
      "Using cached isoduration-20.11.0-py3-none-any.whl (11 kB)\n",
      "Using cached uri_template-1.3.0-py3-none-any.whl (11 kB)\n",
      "Installing collected packages: websockets, webcolors, uri-template, fqdn, isoduration, voila\n",
      "\n",
      "   ------ --------------------------------- 1/6 [webcolors]\n",
      "   --------------------------------- ------ 5/6 [voila]\n",
      "   --------------------------------- ------ 5/6 [voila]\n",
      "   ---------------------------------------- 6/6 [voila]\n",
      "\n",
      "Successfully installed fqdn-1.5.1 isoduration-20.11.0 uri-template-1.3.0 voila-0.5.10 webcolors-24.11.1 websockets-15.0.1\n"
     ]
    }
   ],
   "source": [
    "!pip install voila\n"
   ]
  },
  {
   "cell_type": "code",
   "execution_count": 34,
   "id": "f6540fdb-21f3-4b84-80c6-721b4dede690",
   "metadata": {},
   "outputs": [
    {
     "ename": "SyntaxError",
     "evalue": "invalid syntax (4292430263.py, line 1)",
     "output_type": "error",
     "traceback": [
      "\u001b[1;36m  Cell \u001b[1;32mIn[34], line 1\u001b[1;36m\u001b[0m\n\u001b[1;33m    pip install voila\u001b[0m\n\u001b[1;37m        ^\u001b[0m\n\u001b[1;31mSyntaxError\u001b[0m\u001b[1;31m:\u001b[0m invalid syntax\n"
     ]
    }
   ],
   "source": [
    "pip install voila\n",
    "voila your_notebook.ipynb\n"
   ]
  },
  {
   "cell_type": "code",
   "execution_count": null,
   "id": "acb4f309-77b4-4402-9fdf-da173470a297",
   "metadata": {},
   "outputs": [],
   "source": []
  }
 ],
 "metadata": {
  "kernelspec": {
   "display_name": "Python [conda env:anaconda3]",
   "language": "python",
   "name": "conda-env-anaconda3-py"
  },
  "language_info": {
   "codemirror_mode": {
    "name": "ipython",
    "version": 3
   },
   "file_extension": ".py",
   "mimetype": "text/x-python",
   "name": "python",
   "nbconvert_exporter": "python",
   "pygments_lexer": "ipython3",
   "version": "3.13.5"
  }
 },
 "nbformat": 4,
 "nbformat_minor": 5
}
